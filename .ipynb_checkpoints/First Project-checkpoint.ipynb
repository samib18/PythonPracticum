{
 "cells": [
  {
   "cell_type": "code",
   "execution_count": null,
   "metadata": {},
   "outputs": [],
   "source": [
    "list = []\n",
    "number = int(input(\"How many numbers are you going to enter: (Even number)\"))\n",
    "\n",
    "while True:\n",
    "    numbers = input(\"Enter in numbers (Even amount). Type 'done' to stop entering in numbers: \")\n",
    "    \n",
    "    if numbers == 'done':\n",
    "        break\n",
    "    \n",
    "    values = int(numbers)\n",
    "    list.append(values)\n",
    "    \n",
    "print(list)\n"
   ]
  },
  {
   "cell_type": "code",
   "execution_count": 37,
   "metadata": {},
   "outputs": [
    {
     "name": "stdout",
     "output_type": "stream",
     "text": [
      "Average of entire list = 2.500000\n"
     ]
    }
   ],
   "source": [
    "average = float(sum(list)/len(list))\n",
    "\n",
    "print('Average of entire list = %f' % average)"
   ]
  },
  {
   "cell_type": "code",
   "execution_count": 44,
   "metadata": {},
   "outputs": [
    {
     "name": "stdout",
     "output_type": "stream",
     "text": [
      "First number: 1 Second number: 1 Average is: 1.000000\n",
      "First number: 1 Second number: 2 Average is: 1.500000\n",
      "First number: 1 Second number: 3 Average is: 2.000000\n",
      "First number: 1 Second number: 4 Average is: 2.500000\n",
      "First number: 2 Second number: 1 Average is: 1.500000\n",
      "First number: 2 Second number: 2 Average is: 2.000000\n",
      "First number: 2 Second number: 3 Average is: 2.500000\n",
      "First number: 2 Second number: 4 Average is: 3.000000\n",
      "First number: 3 Second number: 1 Average is: 2.000000\n",
      "First number: 3 Second number: 2 Average is: 2.500000\n",
      "First number: 3 Second number: 3 Average is: 3.000000\n",
      "First number: 3 Second number: 4 Average is: 3.500000\n",
      "First number: 4 Second number: 1 Average is: 2.500000\n",
      "First number: 4 Second number: 2 Average is: 3.000000\n",
      "First number: 4 Second number: 3 Average is: 3.500000\n",
      "First number: 4 Second number: 4 Average is: 4.000000\n"
     ]
    }
   ],
   "source": [
    "pairsAverage = []\n",
    "\n",
    "for x in list:\n",
    "    for y in list:\n",
    "        add = int(x + y)\n",
    "        average = float(add / 2 )\n",
    "        print('First number: %d Second number: %d Average is: %f' %(x, y, average))\n",
    "    \n",
    "    "
   ]
  },
  {
   "cell_type": "code",
   "execution_count": null,
   "metadata": {
    "collapsed": true
   },
   "outputs": [],
   "source": []
  }
 ],
 "metadata": {
  "kernelspec": {
   "display_name": "Python 3",
   "language": "python",
   "name": "python3"
  },
  "language_info": {
   "codemirror_mode": {
    "name": "ipython",
    "version": 3
   },
   "file_extension": ".py",
   "mimetype": "text/x-python",
   "name": "python",
   "nbconvert_exporter": "python",
   "pygments_lexer": "ipython3",
   "version": "3.6.3"
  }
 },
 "nbformat": 4,
 "nbformat_minor": 2
}
