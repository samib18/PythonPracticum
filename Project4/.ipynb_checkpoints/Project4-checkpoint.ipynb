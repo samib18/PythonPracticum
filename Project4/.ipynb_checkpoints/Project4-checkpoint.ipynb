{
 "cells": [
  {
   "cell_type": "code",
   "execution_count": 26,
   "metadata": {},
   "outputs": [
    {
     "name": "stdout",
     "output_type": "stream",
     "text": [
      "Enter in message: 123 $%\n"
     ]
    }
   ],
   "source": [
    "#Steganography \n",
    "#Encode a message into a picture\n",
    "\n",
    "import binascii\n",
    "#Enter a message you want to encode into the picture\n",
    "message = input(\"Enter in message: \")"
   ]
  },
  {
   "cell_type": "code",
   "execution_count": 27,
   "metadata": {
    "collapsed": true
   },
   "outputs": [],
   "source": [
    "#Read in a ppm picture and parse out the information\n",
    "file = open(\"/Users/samibialozynski/Documents/GitHub/PythonPracticum/Project4/balls.ppm\")"
   ]
  },
  {
   "cell_type": "code",
   "execution_count": 28,
   "metadata": {
    "collapsed": true
   },
   "outputs": [],
   "source": [
    "ppmOrRwv = file.readline()\n",
    "secondline = file.readline()\n",
    "width,height = secondline.split()\n",
    "maxNumber = file.readline()\n",
    "\n",
    "width = int(width)\n",
    "height = int(height)"
   ]
  },
  {
   "cell_type": "code",
   "execution_count": 29,
   "metadata": {
    "collapsed": true
   },
   "outputs": [],
   "source": [
    "numbers = []\n",
    "for x in file :\n",
    "    l = x.split()\n",
    "    for a in l:\n",
    "        numbers.append(a)\n",
    "        \n",
    "numbers = list(map(int, numbers))"
   ]
  },
  {
   "cell_type": "code",
   "execution_count": 30,
   "metadata": {},
   "outputs": [
    {
     "name": "stdout",
     "output_type": "stream",
     "text": [
      "[1, 0, 1, 0, 0, 1, 0, 0, 0, 0, 1, 0, 0, 1, 0, 0, 0, 0, 0, 0, 0, 1, 0, 0, 1, 1, 0, 0, 1, 1, 0, 0, 0, 1, 0, 0, 1, 1, 0, 0, 1, 0, 0, 0, 1, 1]\n"
     ]
    }
   ],
   "source": [
    "#Encode the message that was typed to binary\n",
    "letterBinary = bin(int.from_bytes(message.encode(), 'big'))\n",
    "\n",
    "split = []\n",
    "\n",
    "#Spilt the message into a list\n",
    "for binary in letterBinary:\n",
    "    split.append(binary)\n",
    "\n",
    "#Cut off the first two characters\n",
    "split = split[2:]\n",
    "#Reverse the message \n",
    "split = split[::-1]\n",
    "split = list(map(int, split))\n",
    "\n",
    "new = [] \n",
    "i = 0\n",
    "\n",
    "for x in numbers:\n",
    "    if split[i] == 1:\n",
    "        if x == 255:\n",
    "            new.append(x - 1)\n",
    "        else:\n",
    "            new.append(x + 1)\n",
    "    else:\n",
    "        new.append(x)\n",
    "    i += 1\n",
    "    \n",
    "    if i == len(split):\n",
    "        break\n",
    "#The message in binary that has been flipped        \n",
    "print(split)\n",
    "new.extend(numbers[len(split):])"
   ]
  },
  {
   "cell_type": "code",
   "execution_count": 31,
   "metadata": {
    "collapsed": true
   },
   "outputs": [],
   "source": [
    "#Write out the ppm file\n",
    "rvwFile = open(\"/Users/samibialozynski/Documents/GitHub/PythonPracticum/Project4/new.ppm\", \"w\")\n",
    "rvwFile.write(\"P3\\n\")\n",
    "rvwFile.write(\"%d %d\\n\" %(width, height))\n",
    "rvwFile.write(maxNumber)\n",
    "\n",
    "z = 0\n",
    "while (z < len(new)):\n",
    "    rvwFile.writelines(\"%s\\n\" % new[z])\n",
    "    z = z + 1\n",
    "    \n",
    "rvwFile.close()\n",
    "file.close()"
   ]
  },
  {
   "cell_type": "code",
   "execution_count": 32,
   "metadata": {
    "collapsed": true
   },
   "outputs": [],
   "source": [
    "#Decode the message from the picture\n",
    "#Read in the original picture and parse out the information\n",
    "ogfile = open(\"/Users/samibialozynski/Documents/GitHub/PythonPracticum/Project4/balls.ppm\")\n",
    "ogppmOrRwv = ogfile.readline()\n",
    "ogsecondline = ogfile.readline()\n",
    "ogwidth,ogheight = secondline.split()\n",
    "ogmaxNumber = ogfile.readline()\n",
    "\n",
    "ogwidth = int(ogwidth)\n",
    "ogheight = int(ogheight)\n",
    "\n",
    "ognumbers = []\n",
    "for x in ogfile :\n",
    "    l = x.split()\n",
    "    for a in l:\n",
    "        ognumbers.append(a)\n",
    "         \n",
    "ognumbers = list(map(int, ognumbers))"
   ]
  },
  {
   "cell_type": "code",
   "execution_count": 33,
   "metadata": {
    "collapsed": true
   },
   "outputs": [],
   "source": [
    "#Read in the encoded picture and parse out the information\n",
    "otherFile = open(\"/Users/samibialozynski/Documents/GitHub/PythonPracticum/Project4/new.ppm\")\n",
    "oppmOrRwv = otherFile.readline()\n",
    "osecondline = otherFile.readline()\n",
    "owidth,oheight = osecondline.split()\n",
    "omaxNumber = otherFile.readline()\n",
    "\n",
    "owidth = int(owidth)\n",
    "oheight = int(oheight)\n",
    "othernumbers = []\n",
    "\n",
    "for e in otherFile :\n",
    "    k = e.split()\n",
    "    for b in k:\n",
    "        othernumbers.append(b)\n",
    "\n",
    "othernumbers = list(map(int, othernumbers))"
   ]
  },
  {
   "cell_type": "code",
   "execution_count": 34,
   "metadata": {},
   "outputs": [
    {
     "name": "stdout",
     "output_type": "stream",
     "text": [
      "[0, 1, 1, 0, 0, 0, 1, 0, 0, 1, 1, 0, 0, 1, 0, 0, 0, 1, 1, 0, 0, 1, 1, 0, 0, 1, 0, 0, 0, 0, 0, 0, 0, 1, 0, 0, 1, 0, 0, 0, 0, 1, 0, 0, 1, 0, 1]\n",
      "01100010011001000110011001000000010010000100101\n"
     ]
    }
   ],
   "source": [
    "#Compare the pictures to see what numbers are different\n",
    "#Once you get 7 or more 0 stop comparing\n",
    "getMessage = []\n",
    "i = 0\n",
    "p = 0 \n",
    "while i < len(ognumbers):\n",
    "    numb = ognumbers[i] - othernumbers[i]\n",
    "    getMessage.append(numb)\n",
    "    \n",
    "    if numb == 0:\n",
    "        p += 1\n",
    "    else:\n",
    "        p = 0\n",
    "  \n",
    "    if p == 8:\n",
    "        break\n",
    "        \n",
    "    i += 1 \n",
    "\n",
    "getMessage = list(map(abs, getMessage))\n",
    "\n",
    "#Cut off the end 7 digits because that is not apart of message\n",
    "getMessage = getMessage[:-7]\n",
    "#Place the binary forward again\n",
    "getMessage = getMessage[::-1]\n",
    "\n",
    "#Original message in binary as a list\n",
    "print(getMessage)\n",
    "\n",
    "getMessage = list(map(str, getMessage))\n",
    "\n",
    "#Combine the list into a single string\n",
    "message = \"\".join(getMessage)\n",
    "print(message)"
   ]
  },
  {
   "cell_type": "code",
   "execution_count": 35,
   "metadata": {},
   "outputs": [
    {
     "data": {
      "text/plain": [
       "'123 $%'"
      ]
     },
     "execution_count": 35,
     "metadata": {},
     "output_type": "execute_result"
    }
   ],
   "source": [
    "#Convert the binary back to ascii (DECODE the message)\n",
    "n = int(\"0b\" + message, 2)\n",
    "n.to_bytes((n.bit_length() + 7) // 8, 'big').decode()\n",
    "\n",
    "#Get back the original message"
   ]
  },
  {
   "cell_type": "code",
   "execution_count": null,
   "metadata": {
    "collapsed": true
   },
   "outputs": [],
   "source": []
  }
 ],
 "metadata": {
  "kernelspec": {
   "display_name": "Python 3",
   "language": "python",
   "name": "python3"
  },
  "language_info": {
   "codemirror_mode": {
    "name": "ipython",
    "version": 3
   },
   "file_extension": ".py",
   "mimetype": "text/x-python",
   "name": "python",
   "nbconvert_exporter": "python",
   "pygments_lexer": "ipython3",
   "version": "3.6.5"
  }
 },
 "nbformat": 4,
 "nbformat_minor": 2
}
