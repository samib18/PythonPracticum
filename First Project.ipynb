{
 "cells": [
  {
   "cell_type": "code",
   "execution_count": 81,
   "metadata": {},
   "outputs": [
    {
     "name": "stdout",
     "output_type": "stream",
     "text": [
      "How many numbers are you going to enter: (Even number)6\n",
      "Enter in 6 numbers: 1 2 3 4 5 6\n",
      "[1, 2, 3, 4, 5, 6]\n",
      "Average of entire list = 3.500000\n",
      "[[1, 2], [3, 4], [5, 6]]\n",
      "[[1.5], [3.5], [5.5]]\n"
     ]
    }
   ],
   "source": [
    "number = int(input(\"How many numbers are you going to enter: (Even number)\"))\n",
    "\n",
    "if number % 2 != 0:\n",
    "    print(\"Enter an even number!\")\n",
    "else:\n",
    "    a = [int(x) for x in input(\"Enter in %d numbers: \" %number).split()]\n",
    "    print(a)\n",
    "    \n",
    "    average = float(sum(a)/len(a))\n",
    "    print('Average of entire list = %f' % average)\n",
    "    \n",
    "    b = [a[i:i + 2] for i in range(0, len(a), 2)]\n",
    "    print(b)\n",
    "    \n",
    "    averagePair = []\n",
    "    for sublist in b:\n",
    "        averagePair.append([sum(sublist)/len(sublist)])\n",
    "        \n",
    "    print(averagePair)"
   ]
  },
  {
   "cell_type": "code",
   "execution_count": null,
   "metadata": {
    "collapsed": true
   },
   "outputs": [],
   "source": []
  }
 ],
 "metadata": {
  "kernelspec": {
   "display_name": "Python 3",
   "language": "python",
   "name": "python3"
  },
  "language_info": {
   "codemirror_mode": {
    "name": "ipython",
    "version": 3
   },
   "file_extension": ".py",
   "mimetype": "text/x-python",
   "name": "python",
   "nbconvert_exporter": "python",
   "pygments_lexer": "ipython3",
   "version": "3.6.3"
  }
 },
 "nbformat": 4,
 "nbformat_minor": 2
}
