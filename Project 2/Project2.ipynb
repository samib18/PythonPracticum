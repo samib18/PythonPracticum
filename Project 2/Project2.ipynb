{
 "cells": [
  {
   "cell_type": "code",
   "execution_count": 293,
   "metadata": {
    "collapsed": true
   },
   "outputs": [],
   "source": [
    "#Open the file\n",
    "file = open(\"/Users/samibialozynski/Downloads/colors.ppm\")"
   ]
  },
  {
   "cell_type": "code",
   "execution_count": 294,
   "metadata": {},
   "outputs": [],
   "source": [
    "#Extract the PPM type, the width of the picture, the height of the picture, and the maximum color value\n",
    "ppm = file.readline()\n",
    "width = file.readline()\n",
    "height = width.split()\n",
    "maxNumber = file.readline()"
   ]
  },
  {
   "cell_type": "code",
   "execution_count": 295,
   "metadata": {},
   "outputs": [
    {
     "name": "stdout",
     "output_type": "stream",
     "text": [
      "196608\n"
     ]
    }
   ],
   "source": [
    "#Read the rest of the file into a list \n",
    "numbers = []\n",
    "for x in file :\n",
    "    l = x.split()\n",
    "    for a in l:\n",
    "        numbers.append(a)\n",
    "print(len(numbers))"
   ]
  },
  {
   "cell_type": "code",
   "execution_count": 296,
   "metadata": {},
   "outputs": [],
   "source": [
    "#Average every 3 values with its pair\n",
    "\n",
    "#Split the values in the list numbers into red, green, blue values\n",
    "r = numbers[0 : len(numbers): 3]\n",
    "g = numbers[1 : len(numbers) : 3]\n",
    "b = numbers[2 : len(numbers): 3]\n",
    "\n",
    "#Map each of the color values together and convert them into integers\n",
    "r = list(map(int, r))\n",
    "g = list(map(int, g))\n",
    "b = list(map(int, b))\n",
    "\n",
    "#Split the colors values into 2 and average them\n",
    "avgR = [(a + b) / 2 for a, b in zip(r[::2], r[1::2])]\n",
    "avgG = [(a + b) / 2 for a, b in zip(g[::2], g[1::2])]\n",
    "avgB = [(a + b) / 2 for a, b in zip(b[::2], b[1::2])]\n",
    "\n",
    "#Put the averages into another map by value and convert them into integers again\n",
    "avgR = list(map(int, avgR))\n",
    "avgG = list(map(int, avgG))\n",
    "avgB = list(map(int, avgB))\n",
    "\n",
    "#Distribute the values back out pixel by pixel with the averages \n",
    "newRGB = [y for x in zip(avgR, avgG, avgB) for y in x]\n",
    "\n",
    "#Declare the new width and height\n",
    "newWidth = 128\n",
    "newHeight = 256\n",
    "#Create a new file to write to\n",
    "newFile = open(\"/Users/samibialozynski/Downloads/everyotheraverage.ppm\", \"w\")\n",
    "#Add the PPM value, width, height, and max value\n",
    "#The width changes because the value is halved from the averages\n",
    "newFile.write(\"%s\" % (ppm))\n",
    "newFile.write(\"%d %d\\n\" %(newWidth, newHeight))\n",
    "newFile.write(maxNumber)\n",
    "\n",
    "#Place the rest of the numbers into the file\n",
    "i = 0\n",
    "while (i < len(newRGB) - 3):\n",
    "    newFile.writelines(\"%s\\n\" % newRGB[i])\n",
    "    i = i + 1"
   ]
  },
  {
   "cell_type": "code",
   "execution_count": 297,
   "metadata": {},
   "outputs": [],
   "source": [
    "#My own manipulation: average each pixel\n",
    "\n",
    "#Convert the numbers in list to integers not strings\n",
    "numbers = list(map(int, numbers))\n",
    "\n",
    "#Create a new list that makes every 3 numbers into a list\n",
    "b = [numbers[i:i + 3] for i in range(0, len(numbers), 3)]\n",
    "\n",
    "#Declaration of a new list\n",
    "averagePair = []\n",
    "\n",
    "#Average each sublist within b \n",
    "for sublist in b:\n",
    "    averagePair.append((sum(sublist))/len(sublist))\n",
    "\n",
    "#Take the values from the average which are mostly float and make them into integers for ppm format\n",
    "averagePair = list(map(int, averagePair))\n",
    "\n",
    "#Declare the new width and height\n",
    "anotherWidth = 256\n",
    "anotherHeight = 256\n",
    "#Create a new file to write to\n",
    "anotherFile = open(\"/Users/samibialozynski/Downloads/mycreation.ppm\", \"w\")\n",
    "#Add the PPM value, width, height, and max value\n",
    "anotherFile.write(\"%s\" % (ppm))\n",
    "anotherFile.write(\"%s %s\\n\" %(anotherWidth, anotherHeight))\n",
    "anotherFile.write(maxNumber)\n",
    "\n",
    "#Place the rest of the numbers into the file\n",
    "h = 0\n",
    "while (h < len(averagePair) - 3):\n",
    "    anotherFile.writelines(\"%s\\n\" % averagePair[h])\n",
    "    h = h + 1"
   ]
  },
  {
   "cell_type": "code",
   "execution_count": 298,
   "metadata": {},
   "outputs": [],
   "source": [
    "#Create a new list\n",
    "everyother = []\n",
    "\n",
    "t = 0\n",
    "k = 0\n",
    "\n",
    "#While in the old list numbe\n",
    "while(t < len(numbers)):\n",
    "    if (t % 6 < 3):\n",
    "        everyother.append(numbers[t])\n",
    "        k = k + 1\n",
    "    t = t + 1\n",
    "\n",
    "#Create a new file to write to\n",
    "skip = open(\"/Users/samibialozynski/Downloads/skip.ppm\", \"w\")\n",
    "#Add the PPM value, width, height, and max value\n",
    "skip.write(\"%s\" % (ppm))\n",
    "skip.write(\"%s %s\\n\" %(newWidth, newHeight))\n",
    "skip.write(maxNumber)\n",
    "\n",
    "#Place the rest of the numbers into the file\n",
    "r = 0\n",
    "while (r < len(everyother) - 3):\n",
    "    skip.writelines(\"%s\\n\" % everyother[r])\n",
    "    r = r + 1"
   ]
  },
  {
   "cell_type": "code",
   "execution_count": 299,
   "metadata": {},
   "outputs": [],
   "source": [
    "#Close all the files\n",
    "newFile.close()\n",
    "anotherFile.close()\n",
    "skip.close()\n",
    "file.close()"
   ]
  },
  {
   "cell_type": "code",
   "execution_count": null,
   "metadata": {
    "collapsed": true
   },
   "outputs": [],
   "source": []
  }
 ],
 "metadata": {
  "kernelspec": {
   "display_name": "Python 3",
   "language": "python",
   "name": "python3"
  },
  "language_info": {
   "codemirror_mode": {
    "name": "ipython",
    "version": 3
   },
   "file_extension": ".py",
   "mimetype": "text/x-python",
   "name": "python",
   "nbconvert_exporter": "python",
   "pygments_lexer": "ipython3",
   "version": "3.6.3"
  }
 },
 "nbformat": 4,
 "nbformat_minor": 2
}
