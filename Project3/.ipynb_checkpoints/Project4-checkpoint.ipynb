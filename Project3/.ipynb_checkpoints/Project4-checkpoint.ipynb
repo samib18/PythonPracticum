{
 "cells": [
  {
   "cell_type": "code",
   "execution_count": 107,
   "metadata": {},
   "outputs": [
    {
     "name": "stdout",
     "output_type": "stream",
     "text": [
      "Enter in message: h\n"
     ]
    }
   ],
   "source": [
    "import binascii\n",
    "\n",
    "message = input(\"Enter in message: \")"
   ]
  },
  {
   "cell_type": "code",
   "execution_count": 108,
   "metadata": {
    "collapsed": true
   },
   "outputs": [],
   "source": [
    "file = open(\"/Users/samibialozynski/Documents/GitHub/PythonPracticum/Project4/balls.ppm\")"
   ]
  },
  {
   "cell_type": "code",
   "execution_count": 109,
   "metadata": {
    "collapsed": true
   },
   "outputs": [],
   "source": [
    "ppmOrRwv = file.readline()\n",
    "secondline = file.readline()\n",
    "width,height = secondline.split()\n",
    "maxNumber = file.readline()\n",
    "\n",
    "width = int(width)\n",
    "height = int(height)"
   ]
  },
  {
   "cell_type": "code",
   "execution_count": 110,
   "metadata": {
    "collapsed": true
   },
   "outputs": [],
   "source": [
    "numbers = []\n",
    "for x in file :\n",
    "    l = x.split()\n",
    "    for a in l:\n",
    "        numbers.append(a)\n",
    "        \n",
    "numbers = list(map(int, numbers))"
   ]
  },
  {
   "cell_type": "code",
   "execution_count": 111,
   "metadata": {},
   "outputs": [
    {
     "name": "stdout",
     "output_type": "stream",
     "text": [
      "[0, 0, 0, 1, 0, 1, 1]\n"
     ]
    }
   ],
   "source": [
    "letterBinary = bin(int.from_bytes(message.encode(), 'big'))\n",
    "\n",
    "split = []\n",
    "\n",
    "for binary in letterBinary:\n",
    "    split.append(binary)\n",
    "    \n",
    "split = split[2:]\n",
    "split = split[::-1]\n",
    "split = list(map(int, split))\n",
    "\n",
    "new = [] \n",
    "i = 0\n",
    "for x in numbers:\n",
    "    if split[i] == 1:\n",
    "        if x == 255:\n",
    "            new.append(x - 1)\n",
    "        else:\n",
    "            new.append(x + 1)\n",
    "    else:\n",
    "        new.append(x)\n",
    "    i += 1\n",
    "    \n",
    "    if i == len(split):\n",
    "        break\n",
    "        \n",
    "print(split)\n",
    "new.extend(numbers[len(split):])\n"
   ]
  },
  {
   "cell_type": "code",
   "execution_count": 102,
   "metadata": {
    "collapsed": true
   },
   "outputs": [],
   "source": [
    "rvwFile = open(\"/Users/samibialozynski/Documents/GitHub/PythonPracticum/Project4/new.ppm\", \"w\")\n",
    "#rvwFile.write(\"RWV%d\\n\" % rwvNumber)\n",
    "rvwFile.write(\"P3\\n\")\n",
    "rvwFile.write(\"%d %d\\n\" %(width, height))\n",
    "rvwFile.write(maxNumber)\n",
    "\n",
    "z = 0\n",
    "while (z < len(new)):\n",
    "    rvwFile.writelines(\"%s\\n\" % new[z])\n",
    "    z = z + 1\n",
    "    \n",
    "rvwFile.close()\n",
    "file.close()"
   ]
  },
  {
   "cell_type": "code",
   "execution_count": 103,
   "metadata": {
    "collapsed": true
   },
   "outputs": [],
   "source": [
    "#7 or more 0 stop\n",
    "ogfile = open(\"/Users/samibialozynski/Documents/GitHub/PythonPracticum/Project4/balls.ppm\")\n",
    "ogppmOrRwv = ogfile.readline()\n",
    "ogsecondline = ogfile.readline()\n",
    "ogwidth,ogheight = secondline.split()\n",
    "ogmaxNumber = ogfile.readline()\n",
    "\n",
    "ogwidth = int(ogwidth)\n",
    "ogheight = int(ogheight)\n",
    "\n",
    "ognumbers = []\n",
    "for x in ogfile :\n",
    "    l = x.split()\n",
    "    for a in l:\n",
    "        ognumbers.append(a)\n",
    "         \n",
    "ognumbers = list(map(int, ognumbers))"
   ]
  },
  {
   "cell_type": "code",
   "execution_count": 104,
   "metadata": {
    "collapsed": true
   },
   "outputs": [],
   "source": [
    "otherFile = open(\"/Users/samibialozynski/Documents/GitHub/PythonPracticum/Project4/new.ppm\")\n",
    "oppmOrRwv = otherFile.readline()\n",
    "osecondline = otherFile.readline()\n",
    "owidth,oheight = osecondline.split()\n",
    "omaxNumber = otherFile.readline()\n",
    "\n",
    "owidth = int(owidth)\n",
    "oheight = int(oheight)\n",
    "othernumbers = []\n",
    "\n",
    "for e in otherFile :\n",
    "    k = e.split()\n",
    "    for b in k:\n",
    "        othernumbers.append(b)\n",
    "\n",
    "othernumbers = list(map(int, othernumbers))"
   ]
  },
  {
   "cell_type": "code",
   "execution_count": 105,
   "metadata": {},
   "outputs": [
    {
     "name": "stdout",
     "output_type": "stream",
     "text": [
      "[0, 0, 0, 0, 0, 1, 0, 0, 1, 1, 1, 0, 0, 1, 1, 0, 1, 1, 0, 0, 1, 1, 1, 0, 0, 1, 0, 1, 0, 1, 1, 0, 0, 0, 1, 0, 0, 1, 1, 0, 1, 1, 0, 1, 0, 1, 1, 0, 0, 1, 1, 0, 0, 1, 1, 0, 1, 1, 0, 1, 0, 1, 1, 0, 0, 0, 1, 0, 0, 1, 1, 0, 0, 0, 0, 1, 0, 1, 1, 0, 0, 0, 1, 0, 0, 1, 1, 0, 0, 0, 0, 1, 0, 1, 1, 0, 0, 0, 0, 0, 0, 1, 0, 0, 0, 0, 1, 0, 1, 1, 0, 0, 0, 1, 1, 0, 1, 1, 0, 0, 0, 0, 0, 0, 1, 1, 0, 0, 1, 0, 0, 1, 1, 1, 0, 0, 1, 1, 1, 0, 1, 1, 0, 0, 0, 0, 1, 0, 1, 1, 0, 0, 1, 0, 1, 0, 1, 1, 0, 0, 0, 1, 1, 0, 1, 1, 0, 0, 0, 0, 1, 0, 1, 1, 0, 0, 1, 1, 0, 0, 1, 1, 0, 0, 0, 1, 0, 0, 1, 1, 0, 0, 0, 0, 0, 0, 0, 1, 0, 0, 1, 0, 0, 0, 0, 1, 0, 0, 0, 0, 0, 0, 0, 1, 0, 0, 1, 1, 1, 1, 0, 0, 1, 0, 0, 0, 1, 1, 0, 1, 1, 0, 0, 0, 1, 1, 0, 1, 1, 0, 1, 0, 1, 0, 0, 1, 1, 0, 0, 0, 0, 1, 0, 0, 1, 0, 0, 0, 0, 0, 0, 0, 0]\n",
      "[0, 1, 0, 0, 1, 0, 0, 0, 0, 1, 1, 0, 0, 1, 0, 1, 0, 1, 1, 0, 1, 1, 0, 0, 0, 1, 1, 0, 1, 1, 0, 0, 0, 1, 0, 0, 1, 1, 1, 1, 0, 0, 1, 0, 0, 0, 0, 0, 0, 0, 1, 0, 0, 0, 0, 1, 0, 0, 1, 0, 0, 0, 0, 0, 0, 0, 1, 1, 0, 0, 1, 0, 0, 0, 1, 1, 0, 0, 1, 1, 0, 0, 1, 1, 0, 1, 0, 0, 0, 0, 1, 1, 0, 1, 1, 0, 0, 0, 1, 1, 0, 1, 0, 1, 0, 0, 1, 1, 0, 1, 0, 0, 0, 0, 1, 1, 0, 1, 1, 1, 0, 0, 1, 1, 1, 0, 0, 1, 0, 0, 1, 1, 0, 0, 0, 0, 0, 0, 1, 1, 0, 1, 1, 0, 0, 0, 1, 1, 0, 1, 0, 0, 0, 0, 1, 0, 0, 0, 0, 0, 0, 1, 1, 0, 1, 0, 0, 0, 0, 1, 1, 0, 0, 1, 0, 0, 0, 1, 1, 0, 1, 0, 0, 0, 0, 1, 1, 0, 0, 1, 0, 0, 0, 1, 1, 0, 1, 0, 1, 1, 0, 1, 1, 0, 0, 1, 1, 0, 0, 1, 1, 0, 1, 0, 1, 1, 0, 1, 1, 0, 0, 1, 0, 0, 0, 1, 1, 0, 1, 0, 1, 0, 0, 1, 1, 1, 0, 0, 1, 1, 0, 1, 1, 0, 0, 1, 1, 1, 0, 0, 1, 0, 0, 0, 0, 0]\n",
      "0100100001100101011011000110110001001111001000000010000100100000001100100011001100110100001101100011010100110100001101110011100100110000001101100011010000100000011010000110010001101000011001000110101101100110011010110110010001101010011100110110011100100000\n"
     ]
    }
   ],
   "source": [
    "getMessage = []\n",
    "i = 0\n",
    "p = 0 \n",
    "while i < len(ognumbers):\n",
    "    numb = ognumbers[i] - othernumbers[i]\n",
    "    getMessage.append(numb)\n",
    "    \n",
    "    if numb == 0:\n",
    "        p += 1\n",
    "    else:\n",
    "        p = 0\n",
    "    \n",
    "    if p == 8:\n",
    "        break\n",
    "        \n",
    "    i += 1 \n",
    "\n",
    "getMessage = list(map(abs, getMessage))\n",
    "\n",
    "print(getMessage)\n",
    "\n",
    "getMessage = getMessage[:-7]\n",
    "getMessage = getMessage[::-1]\n",
    "\n",
    "print(getMessage)\n",
    "\n",
    "\n",
    "getMessage = list(map(str, getMessage))\n",
    "\n",
    "message = \"\".join(getMessage)\n",
    "print(message)\n"
   ]
  },
  {
   "cell_type": "code",
   "execution_count": 106,
   "metadata": {},
   "outputs": [
    {
     "data": {
      "text/plain": [
       "'HellO ! 23465479064 hdhdkfkdjsg '"
      ]
     },
     "execution_count": 106,
     "metadata": {},
     "output_type": "execute_result"
    }
   ],
   "source": [
    "n = int(\"0b\" + message, 2)\n",
    "n.to_bytes((n.bit_length() + 7) // 8, 'big').decode()"
   ]
  },
  {
   "cell_type": "code",
   "execution_count": null,
   "metadata": {
    "collapsed": true
   },
   "outputs": [],
   "source": []
  }
 ],
 "metadata": {
  "kernelspec": {
   "display_name": "Python 3",
   "language": "python",
   "name": "python3"
  },
  "language_info": {
   "codemirror_mode": {
    "name": "ipython",
    "version": 3
   },
   "file_extension": ".py",
   "mimetype": "text/x-python",
   "name": "python",
   "nbconvert_exporter": "python",
   "pygments_lexer": "ipython3",
   "version": "3.6.3"
  }
 },
 "nbformat": 4,
 "nbformat_minor": 2
}
